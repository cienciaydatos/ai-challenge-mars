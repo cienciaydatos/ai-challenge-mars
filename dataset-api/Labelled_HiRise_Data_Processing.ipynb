{
  "nbformat": 4,
  "nbformat_minor": 0,
  "metadata": {
    "colab": {
      "name": "Labelled HiRise Data Processing",
      "version": "0.3.2",
      "provenance": [],
      "collapsed_sections": []
    },
    "kernelspec": {
      "name": "python3",
      "display_name": "Python 3"
    }
  },
  "cells": [
    {
      "cell_type": "markdown",
      "metadata": {
        "id": "0anJ1FLq4iss",
        "colab_type": "text"
      },
      "source": [
        "# Downloading and Unzipping Dataset"
      ]
    },
    {
      "cell_type": "code",
      "metadata": {
        "id": "CTqv4iw4r2vh",
        "colab_type": "code",
        "outputId": "7595c6a6-18a5-4772-cd6f-be1b82246fdd",
        "colab": {
          "base_uri": "https://localhost:8080/",
          "height": 202
        }
      },
      "source": [
        "!wget https://zenodo.org/record/2538136/files/hirise-map-proj-v3.zip?download=1"
      ],
      "execution_count": 0,
      "outputs": [
        {
          "output_type": "stream",
          "text": [
            "--2019-06-04 18:11:19--  https://zenodo.org/record/2538136/files/hirise-map-proj-v3.zip?download=1\n",
            "Resolving zenodo.org (zenodo.org)... 188.184.65.20\n",
            "Connecting to zenodo.org (zenodo.org)|188.184.65.20|:443... connected.\n",
            "HTTP request sent, awaiting response... 200 OK\n",
            "Length: 985889206 (940M) [application/octet-stream]\n",
            "Saving to: ‘hirise-map-proj-v3.zip?download=1’\n",
            "\n",
            "hirise-map-proj-v3. 100%[===================>] 940.22M  24.5MB/s    in 45s     \n",
            "\n",
            "2019-06-04 18:12:10 (20.8 MB/s) - ‘hirise-map-proj-v3.zip?download=1’ saved [985889206/985889206]\n",
            "\n"
          ],
          "name": "stdout"
        }
      ]
    },
    {
      "cell_type": "code",
      "metadata": {
        "id": "5ELplkfDsBtx",
        "colab_type": "code",
        "colab": {}
      },
      "source": [
        "!mv hirise-map-proj-v3.zip\\?download\\=1 hirise.zip"
      ],
      "execution_count": 0,
      "outputs": []
    },
    {
      "cell_type": "code",
      "metadata": {
        "id": "QUkXzrAdsXZi",
        "colab_type": "code",
        "colab": {}
      },
      "source": [
        "!unzip -qq hirise.zip"
      ],
      "execution_count": 0,
      "outputs": []
    },
    {
      "cell_type": "code",
      "metadata": {
        "id": "nfJKjRNNuWJV",
        "colab_type": "code",
        "outputId": "2461530a-4eae-4771-d73f-c16e7f50c7d3",
        "colab": {
          "base_uri": "https://localhost:8080/",
          "height": 151
        }
      },
      "source": [
        "!ls -l"
      ],
      "execution_count": 0,
      "outputs": [
        {
          "output_type": "stream",
          "text": [
            "total 969448\n",
            "-rw-r--r-- 1 root root 985889206 May 25 09:07 hirise.zip\n",
            "-rw-r--r-- 1 root root   2514353 Jan  9 21:58 labels-map-proj-v3.txt\n",
            "-rw-r--r-- 1 root root        98 Jan  9 21:59 landmarks_map-proj-v3_classmap.csv\n",
            "drwxrwxr-x 2 root root      4096 Jan 11 21:38 __MACOSX\n",
            "drwxrwxr-x 2 root root   4288512 Jan  9 21:57 map-proj-v3\n",
            "-rw-r--r-- 1 root root      1205 Jan 11 21:38 README.txt\n",
            "drwxr-xr-x 1 root root      4096 May 31 16:17 sample_data\n"
          ],
          "name": "stdout"
        }
      ]
    },
    {
      "cell_type": "markdown",
      "metadata": {
        "id": "apZjPO5v4o09",
        "colab_type": "text"
      },
      "source": [
        "# Preliminary Analysis of CSV Files"
      ]
    },
    {
      "cell_type": "code",
      "metadata": {
        "id": "CSSH7gECuq6P",
        "colab_type": "code",
        "colab": {}
      },
      "source": [
        "import pandas as pd\n",
        "import numpy as np\n",
        "from sklearn.model_selection import train_test_split\n",
        "import sklearn\n",
        "import seaborn as sns\n",
        "import matplotlib.image as mpimg\n",
        "import matplotlib.pyplot as plt\n",
        "%matplotlib inline"
      ],
      "execution_count": 0,
      "outputs": []
    },
    {
      "cell_type": "code",
      "metadata": {
        "id": "2lSm28pQvbIU",
        "colab_type": "code",
        "colab": {}
      },
      "source": [
        "labels_map = pd.read_csv('labels-map-proj-v3.txt', sep=' ', names=['image_name', 'label'])"
      ],
      "execution_count": 0,
      "outputs": []
    },
    {
      "cell_type": "code",
      "metadata": {
        "id": "GjQfxtj92kUe",
        "colab_type": "code",
        "outputId": "5a3d9c9e-bb57-4a11-ea9d-2de34c84361f",
        "colab": {
          "base_uri": "https://localhost:8080/",
          "height": 195
        }
      },
      "source": [
        "labels_map.head()"
      ],
      "execution_count": 0,
      "outputs": [
        {
          "output_type": "execute_result",
          "data": {
            "text/html": [
              "<div>\n",
              "<style scoped>\n",
              "    .dataframe tbody tr th:only-of-type {\n",
              "        vertical-align: middle;\n",
              "    }\n",
              "\n",
              "    .dataframe tbody tr th {\n",
              "        vertical-align: top;\n",
              "    }\n",
              "\n",
              "    .dataframe thead th {\n",
              "        text-align: right;\n",
              "    }\n",
              "</style>\n",
              "<table border=\"1\" class=\"dataframe\">\n",
              "  <thead>\n",
              "    <tr style=\"text-align: right;\">\n",
              "      <th></th>\n",
              "      <th>image_name</th>\n",
              "      <th>label</th>\n",
              "    </tr>\n",
              "  </thead>\n",
              "  <tbody>\n",
              "    <tr>\n",
              "      <th>0</th>\n",
              "      <td>ESP_011623_2100_RED-0069.jpg</td>\n",
              "      <td>0</td>\n",
              "    </tr>\n",
              "    <tr>\n",
              "      <th>1</th>\n",
              "      <td>ESP_011623_2100_RED-0069-r90.jpg</td>\n",
              "      <td>0</td>\n",
              "    </tr>\n",
              "    <tr>\n",
              "      <th>2</th>\n",
              "      <td>ESP_011623_2100_RED-0069-r180.jpg</td>\n",
              "      <td>0</td>\n",
              "    </tr>\n",
              "    <tr>\n",
              "      <th>3</th>\n",
              "      <td>ESP_011623_2100_RED-0069-r270.jpg</td>\n",
              "      <td>0</td>\n",
              "    </tr>\n",
              "    <tr>\n",
              "      <th>4</th>\n",
              "      <td>ESP_011623_2100_RED-0069-fh.jpg</td>\n",
              "      <td>0</td>\n",
              "    </tr>\n",
              "  </tbody>\n",
              "</table>\n",
              "</div>"
            ],
            "text/plain": [
              "                          image_name  label\n",
              "0       ESP_011623_2100_RED-0069.jpg      0\n",
              "1   ESP_011623_2100_RED-0069-r90.jpg      0\n",
              "2  ESP_011623_2100_RED-0069-r180.jpg      0\n",
              "3  ESP_011623_2100_RED-0069-r270.jpg      0\n",
              "4    ESP_011623_2100_RED-0069-fh.jpg      0"
            ]
          },
          "metadata": {
            "tags": []
          },
          "execution_count": 150
        }
      ]
    },
    {
      "cell_type": "markdown",
      "metadata": {
        "id": "B8WljSWW2rR0",
        "colab_type": "text"
      },
      "source": [
        "### Distribution of Samples"
      ]
    },
    {
      "cell_type": "code",
      "metadata": {
        "id": "e9R0gIyY20Ke",
        "colab_type": "code",
        "colab": {}
      },
      "source": [
        "landmark_map = pd.read_csv('landmarks_map-proj-v3_classmap.csv', names=['label', 'landmark'])"
      ],
      "execution_count": 0,
      "outputs": []
    },
    {
      "cell_type": "code",
      "metadata": {
        "id": "l7FscGYF32vT",
        "colab_type": "code",
        "outputId": "00f3b408-9385-43aa-ed5f-b42187d4404f",
        "colab": {
          "base_uri": "https://localhost:8080/",
          "height": 284
        }
      },
      "source": [
        "landmark_map"
      ],
      "execution_count": 0,
      "outputs": [
        {
          "output_type": "execute_result",
          "data": {
            "text/html": [
              "<div>\n",
              "<style scoped>\n",
              "    .dataframe tbody tr th:only-of-type {\n",
              "        vertical-align: middle;\n",
              "    }\n",
              "\n",
              "    .dataframe tbody tr th {\n",
              "        vertical-align: top;\n",
              "    }\n",
              "\n",
              "    .dataframe thead th {\n",
              "        text-align: right;\n",
              "    }\n",
              "</style>\n",
              "<table border=\"1\" class=\"dataframe\">\n",
              "  <thead>\n",
              "    <tr style=\"text-align: right;\">\n",
              "      <th></th>\n",
              "      <th>label</th>\n",
              "      <th>landmark</th>\n",
              "    </tr>\n",
              "  </thead>\n",
              "  <tbody>\n",
              "    <tr>\n",
              "      <th>0</th>\n",
              "      <td>0</td>\n",
              "      <td>other</td>\n",
              "    </tr>\n",
              "    <tr>\n",
              "      <th>1</th>\n",
              "      <td>1</td>\n",
              "      <td>crater</td>\n",
              "    </tr>\n",
              "    <tr>\n",
              "      <th>2</th>\n",
              "      <td>2</td>\n",
              "      <td>dark dune</td>\n",
              "    </tr>\n",
              "    <tr>\n",
              "      <th>3</th>\n",
              "      <td>3</td>\n",
              "      <td>slope streak</td>\n",
              "    </tr>\n",
              "    <tr>\n",
              "      <th>4</th>\n",
              "      <td>4</td>\n",
              "      <td>bright dune</td>\n",
              "    </tr>\n",
              "    <tr>\n",
              "      <th>5</th>\n",
              "      <td>5</td>\n",
              "      <td>impact ejecta</td>\n",
              "    </tr>\n",
              "    <tr>\n",
              "      <th>6</th>\n",
              "      <td>6</td>\n",
              "      <td>swiss cheese</td>\n",
              "    </tr>\n",
              "    <tr>\n",
              "      <th>7</th>\n",
              "      <td>7</td>\n",
              "      <td>spider</td>\n",
              "    </tr>\n",
              "  </tbody>\n",
              "</table>\n",
              "</div>"
            ],
            "text/plain": [
              "   label       landmark\n",
              "0      0          other\n",
              "1      1         crater\n",
              "2      2      dark dune\n",
              "3      3   slope streak\n",
              "4      4    bright dune\n",
              "5      5  impact ejecta\n",
              "6      6   swiss cheese\n",
              "7      7         spider"
            ]
          },
          "metadata": {
            "tags": []
          },
          "execution_count": 161
        }
      ]
    },
    {
      "cell_type": "code",
      "metadata": {
        "id": "CN0gVK9P3au9",
        "colab_type": "code",
        "outputId": "cdde4be7-1b8c-49b5-92d7-9503edaa7758",
        "colab": {
          "base_uri": "https://localhost:8080/",
          "height": 286
        }
      },
      "source": [
        "labels_map['label'].hist()"
      ],
      "execution_count": 0,
      "outputs": [
        {
          "output_type": "execute_result",
          "data": {
            "text/plain": [
              "<matplotlib.axes._subplots.AxesSubplot at 0x7f06ecd474a8>"
            ]
          },
          "metadata": {
            "tags": []
          },
          "execution_count": 162
        },
        {
          "output_type": "display_data",
          "data": {
            "image/png": "[encoded data removed]",
            "text/plain": [
              "<Figure size 432x288 with 1 Axes>"
            ]
          },
          "metadata": {
            "tags": []
          }
        }
      ]
    },
    {
      "cell_type": "code",
      "metadata": {
        "id": "R3ywxi3I4NdC",
        "colab_type": "code",
        "outputId": "a6497400-7efa-4ad2-fa03-e5d9579e4ac6",
        "colab": {
          "base_uri": "https://localhost:8080/",
          "height": 168
        }
      },
      "source": [
        "labels_map['landmark'].value_counts()"
      ],
      "execution_count": 0,
      "outputs": [
        {
          "output_type": "execute_result",
          "data": {
            "text/plain": [
              "other            61054\n",
              "crater            4900\n",
              "slope streak      2331\n",
              "bright dune       1750\n",
              "swiss cheese      1148\n",
              "dark dune         1141\n",
              "spider             476\n",
              "impact ejecta      231\n",
              "Name: landmark, dtype: int64"
            ]
          },
          "metadata": {
            "tags": []
          },
          "execution_count": 165
        }
      ]
    },
    {
      "cell_type": "markdown",
      "metadata": {
        "id": "zkEopzbN4tVu",
        "colab_type": "text"
      },
      "source": [
        "# Python Data Generator"
      ]
    },
    {
      "cell_type": "code",
      "metadata": {
        "id": "gDqDc-GQvHyu",
        "colab_type": "code",
        "colab": {}
      },
      "source": [
        "class DataProcessor:\n",
        "    '''\n",
        "    Takes care of creating batches of training and validation samples,\n",
        "    using Python Generators\n",
        "    '''\n",
        "\n",
        "    def __init__(self, data_root, batch_size=128, test_size=0.2, included_labels=[0, 1, 2, 3, 4, 5, 6, 7]):\n",
        "        '''\n",
        "        Constructor that reads the data root folder and creates training and validation generators\n",
        "        :param data_root: Root folder containing the labels map and a folder of recorded images from MRO\n",
        "        :param batch_size: Batch size to be used while generating samples\n",
        "        :param test_size: Train-Test Split to be used while generating samples\n",
        "        :param included_labels: List of all labels to be included in the provided output\n",
        "        '''\n",
        "\n",
        "        self.data_root = data_root\n",
        "        self.batch_size = batch_size\n",
        "        self.test_size = test_size\n",
        "        self.labels_map = pd.read_csv(data_root + 'labels-map-proj-v3.txt', sep=' ', names=['image_name', 'label'])\n",
        "        self.labels_map = self.labels_map[self.labels_map['label'].isin(included_labels)]\n",
        "        self.train_samples, self.validation_samples = self.init_samples()\n",
        "        self.train_generator = self.generator(self.train_samples, self.batch_size)\n",
        "        self.validation_generator = self.generator(self.validation_samples, self.batch_size)\n",
        "\n",
        "    def init_samples(self):\n",
        "        '''\n",
        "        Uses an 80%, 20% split of the dataset into training and validation sets\n",
        "        :return: Tuple with training and validation samples\n",
        "        '''\n",
        "\n",
        "        self.samples = self.labels_map[['image_name', 'label']].values\n",
        "\n",
        "        return train_test_split(self.samples, test_size=self.test_size)\n",
        "\n",
        "    def generator(self, samples, batch_size):\n",
        "        '''\n",
        "        Creates a Generator function that will be used by the model during training. This improves performance by loading\n",
        "        only images by a batch of the given batch size into memory\n",
        "        :param samples: List of samples\n",
        "        :param batch_size: The size of the sample list required at one time\n",
        "        :return: Shuffled tuple of sample features and labels\n",
        "        '''\n",
        "\n",
        "        num_samples = len(samples)\n",
        "        while 1:  # Loop forever so the generator never terminates\n",
        "            shuffled_samples = sklearn.utils.shuffle(samples)\n",
        "            for offset in range(0, num_samples, batch_size):\n",
        "                batch_samples = shuffled_samples[offset:offset + batch_size]\n",
        "\n",
        "                images = []\n",
        "                labels = []\n",
        "                for batch_sample in batch_samples:\n",
        "                    # print(\"Batch=\", batch_sample)\n",
        "                    name = self.data_root + 'map-proj-v3/' + batch_sample[0].strip()\n",
        "                    image = mpimg.imread(name)\n",
        "                    label = batch_sample[1]\n",
        "\n",
        "                    ## TODO: Uncomment if flip augmentation is required\n",
        "                    # is_flip_required = np.random.choice([True, False], p=[0.1, 0.9])\n",
        "                    # if is_flip_required:\n",
        "                    #    image = np.fliplr(image)\n",
        "\n",
        "                    images.append(image)\n",
        "                    labels.append(label)\n",
        "\n",
        "                # trim image to only see section with road\n",
        "                X_train = np.array(images)\n",
        "                y_train = np.array(labels)\n",
        "                yield sklearn.utils.shuffle(X_train, y_train)\n",
        "\n",
        "    def get_train_generator(self):\n",
        "        return self.train_generator\n",
        "\n",
        "    def get_validation_generator(self):\n",
        "        return self.validation_generator\n",
        "\n",
        "    def get_batch_size(self):\n",
        "        return self.batch_size\n",
        "\n",
        "    def get_training_steps_per_epoch(self):\n",
        "        return int(len(self.train_samples) / self.batch_size)\n",
        "\n",
        "    def get_validation_steps(self):\n",
        "        return int(len(self.validation_samples) / self.batch_size)"
      ],
      "execution_count": 0,
      "outputs": []
    },
    {
      "cell_type": "code",
      "metadata": {
        "id": "QigTd6nbvKqS",
        "colab_type": "code",
        "colab": {}
      },
      "source": [
        "## Use the included_labels parameter to include labels/landmarks of interest\n",
        "data_processor = DataProcessor('./', batch_size=32, test_size=0.2, included_labels=[0, 1, 2, 3, 4, 5, 6, 7])"
      ],
      "execution_count": 0,
      "outputs": []
    },
    {
      "cell_type": "markdown",
      "metadata": {
        "id": "eRFhv4X56Lz1",
        "colab_type": "text"
      },
      "source": [
        "## Initializing training and validation generators"
      ]
    },
    {
      "cell_type": "code",
      "metadata": {
        "id": "2UUFsiLQvZtI",
        "colab_type": "code",
        "colab": {}
      },
      "source": [
        "train_generator = data_processor.get_train_generator()\n",
        "validation_generator = data_processor.get_validation_generator()"
      ],
      "execution_count": 0,
      "outputs": []
    },
    {
      "cell_type": "code",
      "metadata": {
        "id": "pu5910dmxNtc",
        "colab_type": "code",
        "colab": {}
      },
      "source": [
        "batch_images, batch_labels = next(train_generator)"
      ],
      "execution_count": 0,
      "outputs": []
    },
    {
      "cell_type": "code",
      "metadata": {
        "id": "xNNiAdq2xSMh",
        "colab_type": "code",
        "outputId": "185bd7e6-d12e-40e7-b2e9-bd297fc537c2",
        "colab": {
          "base_uri": "https://localhost:8080/",
          "height": 34
        }
      },
      "source": [
        "batch_images.shape, batch_labels.shape"
      ],
      "execution_count": 0,
      "outputs": [
        {
          "output_type": "execute_result",
          "data": {
            "text/plain": [
              "((32, 227, 227), (32,))"
            ]
          },
          "metadata": {
            "tags": []
          },
          "execution_count": 183
        }
      ]
    },
    {
      "cell_type": "code",
      "metadata": {
        "id": "9hdtv9Ot1V0V",
        "colab_type": "code",
        "colab": {}
      },
      "source": [
        "batch_images, batch_labels = next(validation_generator)"
      ],
      "execution_count": 0,
      "outputs": []
    },
    {
      "cell_type": "code",
      "metadata": {
        "id": "QL3iwTMk1gIb",
        "colab_type": "code",
        "outputId": "fcfdc812-f1a9-42e7-d3a3-789eef9de526",
        "colab": {
          "base_uri": "https://localhost:8080/",
          "height": 34
        }
      },
      "source": [
        "batch_images.shape, batch_labels.shape"
      ],
      "execution_count": 0,
      "outputs": [
        {
          "output_type": "execute_result",
          "data": {
            "text/plain": [
              "((32, 227, 227), (32,))"
            ]
          },
          "metadata": {
            "tags": []
          },
          "execution_count": 185
        }
      ]
    },
    {
      "cell_type": "markdown",
      "metadata": {
        "id": "KPFaK2246Qc5",
        "colab_type": "text"
      },
      "source": [
        "## Mapping function from Label to Landmark name"
      ]
    },
    {
      "cell_type": "code",
      "metadata": {
        "id": "7GnrmeYBzIpA",
        "colab_type": "code",
        "colab": {}
      },
      "source": [
        "def get_landmark(label):\n",
        "  return landmark_map[landmark_map['label'] == label]['landmark'].iloc[0]"
      ],
      "execution_count": 0,
      "outputs": []
    },
    {
      "cell_type": "code",
      "metadata": {
        "id": "fkdFpptby4QY",
        "colab_type": "code",
        "outputId": "129f1317-8980-4280-b0dc-1e3f8684a43d",
        "colab": {
          "base_uri": "https://localhost:8080/",
          "height": 298
        }
      },
      "source": [
        "plt.title(get_landmark(batch_labels[5]))\n",
        "plt.imshow(batch_images[5])"
      ],
      "execution_count": 0,
      "outputs": [
        {
          "output_type": "execute_result",
          "data": {
            "text/plain": [
              "<matplotlib.image.AxesImage at 0x7f06f42bdba8>"
            ]
          },
          "metadata": {
            "tags": []
          },
          "execution_count": 131
        },
        {
          "output_type": "display_data",
          "data": {
            "image/png": "[encoded data removed]",
            "text/plain": [
              "<Figure size 432x288 with 1 Axes>"
            ]
          },
          "metadata": {
            "tags": []
          }
        }
      ]
    }
  ]
}